{
 "cells": [
  {
   "cell_type": "markdown",
   "id": "f6253272-5c36-48d4-a227-217dfa87deba",
   "metadata": {},
   "source": [
    "# Data Science Tools and Ecosystem\n"
   ]
  },
  {
   "cell_type": "markdown",
   "id": "c6bd93a3-0f27-49fa-9fc5-35f5147fe225",
   "metadata": {},
   "source": [
    "Some of the popular languages that Data Scientists use are:\n",
    " 1. Python\n",
    "2. R\n",
    "3. Sql\n",
    "    "
   ]
  },
  {
   "cell_type": "markdown",
   "id": "f08f9a6b-7487-4eb6-ba70-ea28ca1de4f1",
   "metadata": {},
   "source": [
    "In this notebook, Data Science Tools and Ecosystem are summarized.\n",
    "\n",
    "**Objectives:**  \n",
    "* Python\n",
    "* R\n",
    "* SQL\n",
    "* Java\n"
   ]
  },
  {
   "cell_type": "markdown",
   "id": "5bb7845a-6b20-4fc8-8db7-bf000682cd3b",
   "metadata": {},
   "source": [
    "Some of the commonly used libraries used by Data Scientists include:\n",
    "\n",
    "1. Numpy\n",
    "1. Pandas\n",
    "1. seaborn\n",
    "\n"
   ]
  },
  {
   "cell_type": "markdown",
   "id": "3e6b7bfe-1968-408a-bd02-da103a4a79be",
   "metadata": {
    "tags": []
   },
   "source": [
    "|Data Science Tools|\n",
    "|------------------|\n",
    "|Jupyter Notebooks|\n",
    "|Vs code|\n",
    "|Rstudio|\n"
   ]
  },
  {
   "cell_type": "markdown",
   "id": "5f048462-7099-41a7-bd9e-ff1279faab0d",
   "metadata": {
    "tags": []
   },
   "source": [
    "### Below are a few examples of evaluating arithmetic expressions in Python"
   ]
  },
  {
   "cell_type": "markdown",
   "id": "6efffe3c-7829-4c73-a50a-efb645d08a40",
   "metadata": {},
   "source": [
    "This a simple arithmetic expression to mutiply then add integers\n",
    "\n"
   ]
  },
  {
   "cell_type": "code",
   "execution_count": 13,
   "id": "298b53c3-5146-4cb1-8cbd-3ca0345d2b1e",
   "metadata": {
    "tags": []
   },
   "outputs": [
    {
     "data": {
      "text/plain": [
       "17"
      ]
     },
     "execution_count": 13,
     "metadata": {},
     "output_type": "execute_result"
    }
   ],
   "source": [
    "(3*4)+5"
   ]
  },
  {
   "cell_type": "markdown",
   "id": "1d796160-bd0e-4268-af58-49d662650276",
   "metadata": {},
   "source": [
    "This will convert 200 minutes to hours by diving by 60"
   ]
  },
  {
   "cell_type": "code",
   "execution_count": 15,
   "id": "d240cb95-0d2d-4ee6-a272-092e37b1c6bc",
   "metadata": {
    "tags": []
   },
   "outputs": [
    {
     "data": {
      "text/plain": [
       "3.3333333333333335"
      ]
     },
     "execution_count": 15,
     "metadata": {},
     "output_type": "execute_result"
    }
   ],
   "source": [
    "200/60\n"
   ]
  },
  {
   "cell_type": "markdown",
   "id": "a395a9bd-0de9-4505-82e2-7ff14fccee02",
   "metadata": {},
   "source": [
    "## Author\n",
    "Freider Leclerc"
   ]
  },
  {
   "cell_type": "code",
   "execution_count": null,
   "id": "bde19acc-7e39-4f11-8419-e228fc2a4739",
   "metadata": {},
   "outputs": [],
   "source": []
  }
 ],
 "metadata": {
  "kernelspec": {
   "display_name": "Python",
   "language": "python",
   "name": "conda-env-python-py"
  },
  "language_info": {
   "codemirror_mode": {
    "name": "ipython",
    "version": 3
   },
   "file_extension": ".py",
   "mimetype": "text/x-python",
   "name": "python",
   "nbconvert_exporter": "python",
   "pygments_lexer": "ipython3",
   "version": "3.7.12"
  }
 },
 "nbformat": 4,
 "nbformat_minor": 5
}
